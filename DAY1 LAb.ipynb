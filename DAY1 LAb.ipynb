{
 "cells": [
  {
   "cell_type": "markdown",
   "metadata": {},
   "source": [
    "# <center>**Python Introduction - 1**</center>\n",
    "---\n",
    "\n",
    "### **1. Primary Data Types**\n",
    "- (integer, float, string, boolean)\n",
    "\n",
    "### **2. Containers/Secondary Data Types**\n",
    "- (list, dictionary, set, tuple)\n",
    "\n",
    "### **3. General Operations**\n",
    "- Type-casting\n",
    "- Relational operators\n",
    "- Logical operators\n",
    "- Membership operators\n",
    "\n",
    "### **4. Basic Programming Constructs**\n",
    "- Conditional Statements\n",
    "- Looping\n",
    "- Functions\n",
    "\n",
    "\n",
    "<br>"
   ]
  },
  {
   "cell_type": "markdown",
   "metadata": {},
   "source": [
    "## **Basic tips**\n",
    "---\n",
    "**Mathematical operations (+, -, *, /, %)** can be used just like any programming language\n",
    "\n",
    "**#** can be used for comments. Using this ahead of line with signal the compiler to not execute the line as a command\n",
    "\n",
    "**print()** will print the value stored in the variable. You can also give multiple arguments to the print function seperated by commas.\n",
    "\n",
    "**type()** will print the class of the variable\n",
    "<br><br>"
   ]
  },
  {
   "cell_type": "markdown",
   "metadata": {},
   "source": [
    "## **1. Primary Data Types**\n",
    "---"
   ]
  },
  {
   "cell_type": "code",
   "execution_count": null,
   "metadata": {},
   "outputs": [],
   "source": [
    "## Integer\n",
    "price = 75000\n",
    "print(price)\n",
    "print(type(price))"
   ]
  },
  {
   "cell_type": "code",
   "execution_count": null,
   "metadata": {},
   "outputs": [],
   "source": [
    "## Float\n",
    "weight = 187.5\n",
    "print(weight)\n",
    "print(type(weight))"
   ]
  },
  {
   "cell_type": "code",
   "execution_count": null,
   "metadata": {},
   "outputs": [],
   "source": [
    "## Boolean\n",
    "sold = True\n",
    "print(sold)\n",
    "print(type(sold))"
   ]
  },
  {
   "cell_type": "code",
   "execution_count": null,
   "metadata": {},
   "outputs": [],
   "source": [
    "## String\n",
    "name = \"Iphone 7 Plus\"\n",
    "print(name)\n",
    "print(type(name))"
   ]
  },
  {
   "cell_type": "markdown",
   "metadata": {
    "collapsed": true
   },
   "source": [
    "<br><br><br>\n",
    "\n",
    "## **2. Containers/Secondary Data Types**\n",
    "---"
   ]
  },
  {
   "cell_type": "markdown",
   "metadata": {},
   "source": [
    "### **List = [item1, item2, item3]**\n",
    "#### A list is a data structure in Python that is a mutable, or changeable, ordered sequence of elements. \n",
    "#### List is also resizeable and can contain elements of different types"
   ]
  },
  {
   "cell_type": "code",
   "execution_count": null,
   "metadata": {
    "scrolled": true
   },
   "outputs": [],
   "source": [
    "## Initilizing a list\n",
    "my_list = [1,2,3,4,5]\n",
    "\n",
    "print(my_list)"
   ]
  },
  {
   "cell_type": "code",
   "execution_count": null,
   "metadata": {},
   "outputs": [],
   "source": [
    "## Accessing list item at a given position\n",
    "my_list[2]"
   ]
  },
  {
   "cell_type": "code",
   "execution_count": null,
   "metadata": {},
   "outputs": [],
   "source": [
    "l= [0,2.4,'string',True]\n",
    "print(type(l))\n",
    "print(l)"
   ]
  },
  {
   "cell_type": "code",
   "execution_count": null,
   "metadata": {},
   "outputs": [],
   "source": [
    "l.count(2)"
   ]
  },
  {
   "cell_type": "code",
   "execution_count": null,
   "metadata": {},
   "outputs": [],
   "source": [
    "len(l)"
   ]
  },
  {
   "cell_type": "markdown",
   "metadata": {},
   "source": [
    "**Note - Python indexing starts from 0**"
   ]
  },
  {
   "cell_type": "markdown",
   "metadata": {},
   "source": [
    "### **Tuple = (value1, value2)**\n",
    "#### A tuple is an (immutable) ordered list of values. "
   ]
  },
  {
   "cell_type": "code",
   "execution_count": null,
   "metadata": {},
   "outputs": [],
   "source": [
    "my_tuple = (77.3,58.2)\n",
    "print(my_tuple)\n",
    "\n",
    "tup = 1, 2.453, \"string\", True\n",
    "print(type(tup))\n",
    "print(tup)"
   ]
  },
  {
   "cell_type": "code",
   "execution_count": null,
   "metadata": {},
   "outputs": [],
   "source": [
    "##Slicing a tuple\n",
    "tup[2:]"
   ]
  },
  {
   "cell_type": "markdown",
   "metadata": {},
   "source": [
    "### **Dictionary = {key1:value1, key2:value2}**\n",
    "#### A dictionary stores (key, value) pairs."
   ]
  },
  {
   "cell_type": "code",
   "execution_count": null,
   "metadata": {},
   "outputs": [],
   "source": [
    "# Create a new dictionary with some data\n",
    "my_dict = {'cat': 'cute', 'dog': 'furry'} \n",
    "print(my_dict)"
   ]
  },
  {
   "cell_type": "code",
   "execution_count": null,
   "metadata": {},
   "outputs": [],
   "source": [
    "type(my_dict)"
   ]
  },
  {
   "cell_type": "code",
   "execution_count": null,
   "metadata": {},
   "outputs": [],
   "source": [
    "# Get the value corresponding to the key='cat'\n",
    "my_dict['cat']"
   ]
  },
  {
   "cell_type": "code",
   "execution_count": null,
   "metadata": {},
   "outputs": [],
   "source": [
    "#Get the number of key value pairs in a dictionary\n",
    "len(my_dict)"
   ]
  },
  {
   "cell_type": "code",
   "execution_count": null,
   "metadata": {},
   "outputs": [],
   "source": [
    "#Adding a new key value pair to the dictionary\n",
    "my_dict['cow']='milk'"
   ]
  },
  {
   "cell_type": "code",
   "execution_count": null,
   "metadata": {},
   "outputs": [],
   "source": [
    "#Adding a new key value pair to the dictionary\n",
    "my_dict.update(DesiCow = 'goodmilk')"
   ]
  },
  {
   "cell_type": "code",
   "execution_count": null,
   "metadata": {},
   "outputs": [],
   "source": [
    "#Print the elements of the dictionary\n",
    "print(my_dict)"
   ]
  },
  {
   "cell_type": "code",
   "execution_count": null,
   "metadata": {},
   "outputs": [],
   "source": [
    "##Write code to add a 'humans' : 'ego' key value pair to the dictionary"
   ]
  },
  {
   "cell_type": "markdown",
   "metadata": {},
   "source": [
    "<br><br><br>\n",
    "## **3. General Operations**\n",
    "---"
   ]
  },
  {
   "cell_type": "markdown",
   "metadata": {},
   "source": [
    "### A) Explicit data-type conversion (type-casting)"
   ]
  },
  {
   "cell_type": "code",
   "execution_count": null,
   "metadata": {},
   "outputs": [],
   "source": [
    "apple = 40\n",
    "banana = '5'\n",
    "print(apple)\n",
    "print(banana)"
   ]
  },
  {
   "cell_type": "code",
   "execution_count": null,
   "metadata": {},
   "outputs": [],
   "source": [
    "apple+banana"
   ]
  },
  {
   "cell_type": "markdown",
   "metadata": {},
   "source": [
    "**Note - The above error is because we are performing an incompatible operation. i.e. adding an integer to string.**\n",
    "\n",
    "**In such scenarios we type-cast (change the data type) of the variable into appropriate type**"
   ]
  },
  {
   "cell_type": "code",
   "execution_count": null,
   "metadata": {},
   "outputs": [],
   "source": [
    "## Converting value of banana (previously string) into integer\n",
    "banana = int(banana)\n",
    "\n",
    "apple + banana"
   ]
  },
  {
   "cell_type": "markdown",
   "metadata": {},
   "source": [
    "### B) Relational Operators (returns a boolean after evaluating the expression)"
   ]
  },
  {
   "cell_type": "code",
   "execution_count": null,
   "metadata": {},
   "outputs": [],
   "source": [
    "print(\"10 == 10\", 10 == 10)  # Equal to comparision\n",
    "print(\"10 != 20\", 10 != 20)  # Not equal to comparision\n",
    "print(\"10 > 10\", 10 > 10)    # Greater than\n",
    "print(\"10 < 20\", 10 < 20)    # Smaller than\n",
    "print(\"10 <= 10\", 10 <= 10)  # Smaller OR Equal to"
   ]
  },
  {
   "cell_type": "markdown",
   "metadata": {},
   "source": [
    "### C) Logical Operations (returns a boolean after evaluating the expression)\n",
    "**Logical operations usually make sense with boolean variables**"
   ]
  },
  {
   "cell_type": "code",
   "execution_count": null,
   "metadata": {},
   "outputs": [],
   "source": [
    "t = True\n",
    "f = False"
   ]
  },
  {
   "cell_type": "code",
   "execution_count": null,
   "metadata": {},
   "outputs": [],
   "source": [
    "## OR\n",
    "print(t or f)\n",
    "print(t or t)\n",
    "print(f or t)\n",
    "print(f or f)"
   ]
  },
  {
   "cell_type": "code",
   "execution_count": null,
   "metadata": {},
   "outputs": [],
   "source": [
    "## AND\n",
    "print(t and f)\n",
    "print(t and t)\n",
    "print(f and t)\n",
    "print(f and f)"
   ]
  },
  {
   "cell_type": "markdown",
   "metadata": {},
   "source": [
    "### D) Membership operator"
   ]
  },
  {
   "cell_type": "code",
   "execution_count": null,
   "metadata": {},
   "outputs": [],
   "source": [
    "my_list = [\"R\",\"Python\",\"SQL\"]\n",
    "\n",
    "'R' in my_list"
   ]
  },
  {
   "cell_type": "markdown",
   "metadata": {},
   "source": [
    "<br><br>\n",
    "## **4. Basic Programming Constructs**\n",
    "\n",
    "---"
   ]
  },
  {
   "cell_type": "markdown",
   "metadata": {},
   "source": [
    "### **A) Conditional Statments**"
   ]
  },
  {
   "cell_type": "code",
   "execution_count": null,
   "metadata": {},
   "outputs": [],
   "source": [
    "from IPython.display import Image\n",
    "Image(filename='img/ifelse.png')"
   ]
  },
  {
   "cell_type": "code",
   "execution_count": null,
   "metadata": {},
   "outputs": [],
   "source": [
    "passing_marks = 50\n",
    "student_marks = 90\n",
    "\n",
    "if (student_marks > passing_marks):\n",
    "    print(\"Congrats! You passed the course\")\n",
    "else:\n",
    "    print(\"Ahh! You failed\")"
   ]
  },
  {
   "cell_type": "markdown",
   "metadata": {
    "solution2": "shown",
    "solution2_first": true
   },
   "source": [
    "### Activity 1 - Extend the if-else construct to incorporate excellence award check [excellence_criteria >= 70]"
   ]
  },
  {
   "cell_type": "code",
   "execution_count": null,
   "metadata": {
    "solution2": "shown"
   },
   "outputs": [],
   "source": [
    "marks = 75 #some number representing student's marks\n",
    "passing_marks = 50\n",
    "excellence_criteria = 70\n",
    "student_marks = marks\n",
    "\n",
    "### Your code here..\n",
    "\n",
    "###"
   ]
  },
  {
   "cell_type": "markdown",
   "metadata": {},
   "source": [
    "### **B) Functions**"
   ]
  },
  {
   "cell_type": "code",
   "execution_count": null,
   "metadata": {},
   "outputs": [],
   "source": [
    "def area(l,b):\n",
    "    total_area = l * b\n",
    "    return total_area"
   ]
  },
  {
   "cell_type": "code",
   "execution_count": null,
   "metadata": {},
   "outputs": [],
   "source": []
  },
  {
   "cell_type": "code",
   "execution_count": null,
   "metadata": {},
   "outputs": [],
   "source": [
    "# Now you can use this function multiple times with different input values.\n",
    "a1 = area(10,10)\n",
    "print(\"Area =\",a1)"
   ]
  },
  {
   "cell_type": "markdown",
   "metadata": {
    "solution2": "shown",
    "solution2_first": true
   },
   "source": [
    "### Activity 2 - Write a function that returns the object type (square/rectangle) along with area.\n",
    "E.g. \"Square area = 200\"\n",
    "\n",
    "Hint - Return a string"
   ]
  },
  {
   "cell_type": "code",
   "execution_count": null,
   "metadata": {
    "solution2": "shown"
   },
   "outputs": [],
   "source": [
    "def area(l,b):\n",
    "    ### Your code here...\n",
    "    \n",
    "    ###\n",
    "    \n",
    "a2 = area(20,20)\n",
    "print(a2)\n",
    "\n",
    "a3 = area(10,40)\n",
    "print(a3)"
   ]
  },
  {
   "cell_type": "markdown",
   "metadata": {},
   "source": [
    "### **C) Looping Statements**"
   ]
  },
  {
   "cell_type": "code",
   "execution_count": null,
   "metadata": {},
   "outputs": [],
   "source": [
    "looping_list = [1,2,3,4,5]\n",
    "\n",
    "## Loop that returns square of each number in the list\n",
    "for i in looping_list:\n",
    "    print(i ** 2)"
   ]
  },
  {
   "cell_type": "markdown",
   "metadata": {},
   "source": [
    "### Activity 3 - Write a function that takes a list as input and prints all even numbers"
   ]
  },
  {
   "cell_type": "code",
   "execution_count": null,
   "metadata": {},
   "outputs": [],
   "source": [
    "def even(input_list):\n",
    "   ### Your code here..\n",
    "\n",
    "   ###\n",
    "            \n",
    "even([2,99,51,32,6,11,29,21])"
   ]
  },
  {
   "cell_type": "code",
   "execution_count": null,
   "metadata": {},
   "outputs": [],
   "source": []
  }
 ],
 "metadata": {
  "kernelspec": {
   "display_name": "Python 3",
   "language": "python",
   "name": "python3"
  },
  "language_info": {
   "codemirror_mode": {
    "name": "ipython",
    "version": 3
   },
   "file_extension": ".py",
   "mimetype": "text/x-python",
   "name": "python",
   "nbconvert_exporter": "python",
   "pygments_lexer": "ipython3",
   "version": "3.5.6"
  }
 },
 "nbformat": 4,
 "nbformat_minor": 2
}
