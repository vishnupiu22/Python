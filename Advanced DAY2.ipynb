{
 "cells": [
  {
   "cell_type": "markdown",
   "metadata": {},
   "source": [
    "---\n",
    "\n",
    "### **To learn now...**\n",
    "<br>\n",
    "\n",
    "### **5. Nuances between R and Python**\n",
    "\n",
    "### **6. List Operations**\n",
    "\n",
    "### **7. Dictionary Operations**\n",
    "\n",
    "### **8. String Operations**\n",
    "\n",
    "### **9. Higher level packages**\n",
    "- **DataFrame** from Pandas\n",
    "- **Array** from numpy "
   ]
  },
  {
   "cell_type": "markdown",
   "metadata": {},
   "source": [
    "# **5. Nuances between R vs Python**"
   ]
  },
  {
   "cell_type": "markdown",
   "metadata": {},
   "source": [
    "### A) Size of a container"
   ]
  },
  {
   "cell_type": "code",
   "execution_count": 23,
   "metadata": {},
   "outputs": [
    {
     "name": "stdout",
     "output_type": "stream",
     "text": [
      "Length of list1 = 5\n",
      "Lenth of dict1 = 3\n"
     ]
    }
   ],
   "source": [
    "### R uses length()\n",
    "### Python uses len()\n",
    "\n",
    "list1 = [10, 20, 30, 40, 50]\n",
    "print('Length of list1 =',len(list1))\n",
    "\n",
    "dict1 = {1:'Apple',2:'Google',3:'IBM'}\n",
    "print('Lenth of dict1 =',len(dict1))"
   ]
  },
  {
   "cell_type": "markdown",
   "metadata": {},
   "source": [
    "### B) Check data type?"
   ]
  },
  {
   "cell_type": "code",
   "execution_count": 24,
   "metadata": {},
   "outputs": [
    {
     "name": "stdout",
     "output_type": "stream",
     "text": [
      "<class 'str'> <class 'str'> <class 'int'>\n"
     ]
    }
   ],
   "source": [
    "## R uses class()\n",
    "## Python uses type()\n",
    "\n",
    "x = 'INSOFE'\n",
    "y = '2017'\n",
    "z = 2017 \n",
    "print(type(x),type(y),type(z))"
   ]
  },
  {
   "cell_type": "code",
   "execution_count": 25,
   "metadata": {},
   "outputs": [
    {
     "data": {
      "text/plain": [
       "30"
      ]
     },
     "execution_count": 25,
     "metadata": {},
     "output_type": "execute_result"
    }
   ],
   "source": [
    "a = [10, 20, 30, 40, 50]\n",
    "a[2]"
   ]
  },
  {
   "cell_type": "markdown",
   "metadata": {},
   "source": [
    "### C) Indexing\n",
    "- R indexing starts from 1\n",
    "- Python indexing starts from 0"
   ]
  },
  {
   "cell_type": "code",
   "execution_count": 26,
   "metadata": {},
   "outputs": [
    {
     "name": "stdout",
     "output_type": "stream",
     "text": [
      "list2[1] => 20\n"
     ]
    }
   ],
   "source": [
    "list2 = [10,20,30,40,50]\n",
    "print(\"list2[1] =>\", list2[1])"
   ]
  },
  {
   "cell_type": "markdown",
   "metadata": {},
   "source": [
    "### Note - **id( )** can be used to check memory location of a variable in python"
   ]
  },
  {
   "cell_type": "code",
   "execution_count": 1,
   "metadata": {},
   "outputs": [
    {
     "data": {
      "text/plain": [
       "4312348608"
      ]
     },
     "execution_count": 1,
     "metadata": {},
     "output_type": "execute_result"
    }
   ],
   "source": [
    "apple = 20\n",
    "id(apple)"
   ]
  },
  {
   "cell_type": "markdown",
   "metadata": {},
   "source": [
    "### D) Containers and Secondary data types like **List, Dictionary** and **Set** are **mutable**. These behave differently *(compared to R)* when their copies are modified."
   ]
  },
  {
   "cell_type": "code",
   "execution_count": 2,
   "metadata": {},
   "outputs": [
    {
     "name": "stdout",
     "output_type": "stream",
     "text": [
      "Fruits [20, 30, 40, 50] 4351357768\n",
      "Veggies [20, 30, 40, 50] 4351357768 \n",
      "\n",
      "Fruits [20, 30, 40, 99] 4351357768\n",
      "Veggies [20, 30, 40, 99] 4351357768\n"
     ]
    }
   ],
   "source": [
    "Fruits = [20,30,40,50]\n",
    "Veggies = Fruits\n",
    "print(\"Fruits\",Fruits,id(Fruits))\n",
    "print(\"Veggies\",Veggies,id(Veggies),\"\\n\")\n",
    "\n",
    "Fruits[3] = 99\n",
    "print(\"Fruits\",Fruits,id(Fruits))\n",
    "print(\"Veggies\",Veggies,id(Veggies))"
   ]
  },
  {
   "cell_type": "markdown",
   "metadata": {},
   "source": [
    "### NOTE\n",
    "**This is because Python creates a shallow copy when mutable objects (Containers and Secondary data types) are replicated.**\n",
    "\n",
    "**Most of the times the above behaviour is not desirable in data science pipeline.**\n",
    "\n",
    "**Hence we prefer deep-copy against which ensures that a hard replica (with seperate memory location) is created.**\n",
    "\n",
    "**R by default follows copy-on-modify semantics, which is synonymous to deep-copy**"
   ]
  },
  {
   "cell_type": "markdown",
   "metadata": {},
   "source": [
    "### E) Deep Copy\n",
    "#### **Going ahead data will be usually stored in containers/secondary data types. You should always use while making replicas/backup of your data.**"
   ]
  },
  {
   "cell_type": "code",
   "execution_count": 3,
   "metadata": {},
   "outputs": [
    {
     "name": "stdout",
     "output_type": "stream",
     "text": [
      "Fruits [20, 30, 40, 50] 4351232456\n",
      "Veggies [20, 30, 40, 50] 4351358088 \n",
      "\n",
      "Fruits [20, 30, 40, 99] 4351232456\n",
      "Veggies [20, 30, 40, 50] 4351358088\n"
     ]
    }
   ],
   "source": [
    "Fruits = [20,30,40,50]\n",
    "Veggies = Fruits.copy()\n",
    "print(\"Fruits\",Fruits,id(Fruits))\n",
    "print(\"Veggies\",Veggies,id(Veggies),\"\\n\")\n",
    "\n",
    "Fruits[3] = 99\n",
    "print(\"Fruits\",Fruits,id(Fruits))\n",
    "print(\"Veggies\",Veggies,id(Veggies))"
   ]
  },
  {
   "cell_type": "markdown",
   "metadata": {},
   "source": [
    "# **6. List Operations**"
   ]
  },
  {
   "cell_type": "markdown",
   "metadata": {},
   "source": [
    "### A) Generating a sequence "
   ]
  },
  {
   "cell_type": "code",
   "execution_count": 34,
   "metadata": {},
   "outputs": [
    {
     "name": "stdout",
     "output_type": "stream",
     "text": [
      "sequence1 = [0, 1, 2, 3, 4, 5, 6, 7, 8, 9, 10, 11, 12, 13, 14, 15, 16, 17, 18, 19]\n",
      "sequence2 = [50, 51, 52, 53, 54, 55, 56, 57, 58, 59]\n",
      "sequence3 = [100, 110, 120, 130, 140]\n"
     ]
    }
   ],
   "source": [
    "## Creates sequence of 20 elements starting from 0\n",
    "sequence1 = list(range(20))\n",
    "print('sequence1 =',sequence1)\n",
    "\n",
    "## Custom sequence from specific start and end points\n",
    "sequence2 = list(range(50,60))\n",
    "print('sequence2 =',sequence2)\n",
    "\n",
    "## Custom sequence from specific start and end points with variable leap\n",
    "sequence3 = list(range(100,150,10))\n",
    "print('sequence3 =',sequence3)"
   ]
  },
  {
   "cell_type": "markdown",
   "metadata": {},
   "source": [
    "### B) Iterating a list"
   ]
  },
  {
   "cell_type": "code",
   "execution_count": 1,
   "metadata": {},
   "outputs": [
    {
     "name": "stdout",
     "output_type": "stream",
     "text": [
      "cat\n",
      "dog\n",
      "monkey\n"
     ]
    }
   ],
   "source": [
    "# Using for loop\n",
    "animals = ['cat', 'dog', 'monkey']\n",
    "for animal in animals:\n",
    "    print(animal)"
   ]
  },
  {
   "cell_type": "code",
   "execution_count": 6,
   "metadata": {},
   "outputs": [
    {
     "name": "stdout",
     "output_type": "stream",
     "text": [
      "cat\n",
      "dog\n",
      "monkey\n"
     ]
    }
   ],
   "source": [
    "for i in range(len(animals)):\n",
    "    print(animals[i])"
   ]
  },
  {
   "cell_type": "code",
   "execution_count": 2,
   "metadata": {},
   "outputs": [
    {
     "name": "stdout",
     "output_type": "stream",
     "text": [
      "Index 1 cat\n",
      "Index 2 dog\n",
      "Index 3 monkey\n"
     ]
    }
   ],
   "source": [
    "# Iterating with index\n",
    "animals = ['cat', 'dog', 'monkey']\n",
    "for idx,animal in enumerate(animals):\n",
    "    print('Index', idx + 1, animal)"
   ]
  },
  {
   "cell_type": "markdown",
   "metadata": {},
   "source": [
    "### C) Slicing the list"
   ]
  },
  {
   "cell_type": "code",
   "execution_count": 1,
   "metadata": {},
   "outputs": [
    {
     "data": {
      "image/png": "[encoded data removed]",
      "text/plain": [
       "<IPython.core.display.Image object>"
      ]
     },
     "execution_count": 1,
     "metadata": {},
     "output_type": "execute_result"
    }
   ],
   "source": [
    "from IPython.display import Image\n",
    "Image(filename='list.png')"
   ]
  },
  {
   "cell_type": "markdown",
   "metadata": {},
   "source": [
    "### Note - start argument in inclusive but end argument in exclusive"
   ]
  },
  {
   "cell_type": "code",
   "execution_count": 38,
   "metadata": {},
   "outputs": [
    {
     "name": "stdout",
     "output_type": "stream",
     "text": [
      "['a', 'b', 'c', 'd', 'e', 'f']\n",
      "['c', 'd', 'e']\n",
      "['c', 'd', 'e', 'f']\n",
      "['a', 'b']\n"
     ]
    }
   ],
   "source": [
    "chars = ['a','b','c','d','e','f']    \n",
    "print(chars)                   # Prints whole list\n",
    "print(chars[2:5])         # Get a slice from index 2 to 4 (exclusive)\n",
    "print(chars[2:])           # Get a slice from index 2 to the end\n",
    "print(chars[:2])           # Get a slice from the start to index 2 (exclusive)"
   ]
  },
  {
   "cell_type": "code",
   "execution_count": 4,
   "metadata": {},
   "outputs": [
    {
     "name": "stdout",
     "output_type": "stream",
     "text": [
      "['a', 'b', 'c', 'd']\n",
      "['e', 'f']\n"
     ]
    }
   ],
   "source": [
    "## Negative Slicing\n",
    "chars = ['a','b','c','d','e','f']    \n",
    "print(chars[:-2])          # All elements from starting till second to last (Excluding last element)\n",
    "print(chars[-2:])          # Last 2 elements"
   ]
  },
  {
   "cell_type": "markdown",
   "metadata": {},
   "source": [
    "### D) Appending/Extending a list"
   ]
  },
  {
   "cell_type": "code",
   "execution_count": 8,
   "metadata": {},
   "outputs": [
    {
     "name": "stdout",
     "output_type": "stream",
     "text": [
      "[0, 1, 2, 3, 4, 5, 6, 7, 8, 9]\n",
      "[0, 1, 2, 3, 4, 5, 6, 7, 8, 9, 777]\n",
      "[0, 1, 2, 3, 4, 5, 6, 7, 8, 9, 777, 111, 222, 333]\n"
     ]
    }
   ],
   "source": [
    "l1= list(range(10))\n",
    "print(l1)\n",
    "\n",
    "l1.append(777)              # Append allows adding only 1 item at the end of list\n",
    "print(l1)\n",
    "\n",
    "l1.extend([111,222,333])    # Extend helps to add a list to list\n",
    "print(l1)"
   ]
  },
  {
   "cell_type": "markdown",
   "metadata": {},
   "source": [
    "## NOTE\n",
    "**These are just some frequently used functions in Data Science. You should lookout for other functions through python documentation or online sources as and when required.**\n",
    "\n",
    "**If you know the art of googling, you wont require to write custom logic of everything. Most of the problems are already tackled. Most functions already written.**\n",
    "\n",
    "**Googling alone can solve most of your problems. StackOverflow should be your best friend.** "
   ]
  },
  {
   "cell_type": "markdown",
   "metadata": {},
   "source": [
    "### E) List Comprehension"
   ]
  },
  {
   "cell_type": "code",
   "execution_count": 41,
   "metadata": {},
   "outputs": [
    {
     "name": "stdout",
     "output_type": "stream",
     "text": [
      "[0, 1, 4, 9, 16, 25, 36, 49, 64, 81]\n"
     ]
    }
   ],
   "source": [
    "## List of squares using for Loop\n",
    "nums = list(range(10))\n",
    "squares = []\n",
    "for x in nums:\n",
    "    squares.append(x ** 2)\n",
    "print(squares)"
   ]
  },
  {
   "cell_type": "code",
   "execution_count": 42,
   "metadata": {},
   "outputs": [
    {
     "name": "stdout",
     "output_type": "stream",
     "text": [
      "[0, 1, 4, 9, 16, 25, 36, 49, 64, 81]\n"
     ]
    }
   ],
   "source": [
    "## List of squares using list comprehension\n",
    "nums = list(range(10))\n",
    "squares = [x ** 2 for x in nums]\n",
    "print(squares)"
   ]
  },
  {
   "cell_type": "code",
   "execution_count": 43,
   "metadata": {},
   "outputs": [
    {
     "name": "stdout",
     "output_type": "stream",
     "text": [
      "[0, 4, 16]\n"
     ]
    }
   ],
   "source": [
    "## Versatile enough to accomodate conditions\n",
    "nums = list(range(6))\n",
    "even_squares = [x ** 2 for x in nums if x % 2 == 0]\n",
    "print(even_squares)"
   ]
  },
  {
   "cell_type": "markdown",
   "metadata": {},
   "source": [
    "### Activity - Write a list comprehesion that cubes the numbers between 1-100 only if it is divisible by both 2 and 3"
   ]
  },
  {
   "cell_type": "code",
   "execution_count": 12,
   "metadata": {},
   "outputs": [
    {
     "name": "stdout",
     "output_type": "stream",
     "text": [
      "[[0, 1, 2, 3, 4], [0, 1, 2, 3, 4], [0, 1, 2, 3, 4], [0, 1, 2, 3, 4], [0, 1, 2, 3, 4]]\n"
     ]
    }
   ],
   "source": [
    "nums = list(range(100))\n",
    "cubes = [x ** 3 for x in nums if(x % 2 == 0 and x % 3 == 0)]\n",
    "print(cubes)"
   ]
  },
  {
   "cell_type": "code",
   "execution_count": null,
   "metadata": {},
   "outputs": [],
   "source": []
  },
  {
   "cell_type": "markdown",
   "metadata": {},
   "source": [
    "# 8. Dictionary Operations"
   ]
  },
  {
   "cell_type": "markdown",
   "metadata": {},
   "source": [
    "### A) Iterating through dictionary"
   ]
  },
  {
   "cell_type": "code",
   "execution_count": 15,
   "metadata": {},
   "outputs": [
    {
     "name": "stdout",
     "output_type": "stream",
     "text": [
      "dict_keys(['person', 'cat', 'spider'])\n",
      "dict_values([2, 4, 8])\n",
      "dict_items([('person', 2), ('cat', 4), ('spider', 8)])\n",
      "{'cat': 4, 'spider': 8}\n",
      "{'cat': 4, 'spider': 8, 'person': 4}\n"
     ]
    }
   ],
   "source": [
    "d = {'person': 2, 'cat': 4, 'spider': 8}\n",
    "\n",
    "print(d.keys())\n",
    "print(d.values())\n",
    "print(d.items())\n",
    "\n",
    "d.pop('person')\n",
    "print(d)\n",
    "\n",
    "d.update({'person':4})\n",
    "print(d)"
   ]
  },
  {
   "cell_type": "code",
   "execution_count": null,
   "metadata": {},
   "outputs": [],
   "source": []
  },
  {
   "cell_type": "code",
   "execution_count": 44,
   "metadata": {},
   "outputs": [
    {
     "name": "stdout",
     "output_type": "stream",
     "text": [
      "person\n",
      "cat\n",
      "spider\n",
      "2\n",
      "4\n",
      "8\n",
      "A person has 2 legs\n",
      "A cat has 4 legs\n",
      "A spider has 8 legs\n"
     ]
    }
   ],
   "source": [
    "d = {'person': 2, 'cat': 4, 'spider': 8}\n",
    "\n",
    "# A simple for loop iterates through keys by default\n",
    "for animal in d:           \n",
    "    print(animal)\n",
    "    \n",
    "# dictionary.values() will iterate through values\n",
    "for animal in d.values():  \n",
    "    print(animal)\n",
    "    \n",
    "# dictionary.items() will give you key value pairs\n",
    "for animal, legs in d.items():              \n",
    "    print('A', animal, 'has', legs, 'legs')\n",
    "#     print('A %s has %d legs' % (animal, legs))   # Alternative formatting for the above string"
   ]
  },
  {
   "cell_type": "markdown",
   "metadata": {},
   "source": [
    "### B) Dictionary comprehension"
   ]
  },
  {
   "cell_type": "code",
   "execution_count": 45,
   "metadata": {},
   "outputs": [
    {
     "name": "stdout",
     "output_type": "stream",
     "text": [
      "{0: 0, 1: 1, 2: 4, 3: 9, 4: 16, 5: 25, 6: 36, 7: 49, 8: 64, 9: 81}\n",
      "{1: 1, 3: 9, 5: 25, 7: 49, 9: 81}\n"
     ]
    }
   ],
   "source": [
    "nums = list(range(10))\n",
    "squares = {x: x ** 2 for x in nums}\n",
    "print(squares)\n",
    "\n",
    "odd_squares = {x: x ** 2 for x in nums if x%2 != 0}\n",
    "print(odd_squares) "
   ]
  },
  {
   "cell_type": "markdown",
   "metadata": {},
   "source": [
    "### Activity - Create a dictionary of numbers from 1-100 and tag them odd or even\n",
    "Hint - Keys should be numbers 1-100 and values should be 'odd' or 'even'"
   ]
  },
  {
   "cell_type": "code",
   "execution_count": null,
   "metadata": {},
   "outputs": [],
   "source": []
  },
  {
   "cell_type": "code",
   "execution_count": null,
   "metadata": {},
   "outputs": [],
   "source": []
  },
  {
   "cell_type": "code",
   "execution_count": null,
   "metadata": {},
   "outputs": [],
   "source": []
  },
  {
   "cell_type": "code",
   "execution_count": null,
   "metadata": {},
   "outputs": [],
   "source": []
  },
  {
   "cell_type": "code",
   "execution_count": null,
   "metadata": {},
   "outputs": [],
   "source": []
  },
  {
   "cell_type": "code",
   "execution_count": null,
   "metadata": {},
   "outputs": [],
   "source": []
  },
  {
   "cell_type": "code",
   "execution_count": 19,
   "metadata": {
    "collapsed": true
   },
   "outputs": [
    {
     "data": {
      "text/plain": [
       "{1: 'odd',\n",
       " 2: 'even',\n",
       " 3: 'odd',\n",
       " 4: 'even',\n",
       " 5: 'odd',\n",
       " 6: 'even',\n",
       " 7: 'odd',\n",
       " 8: 'even',\n",
       " 9: 'odd',\n",
       " 10: 'even',\n",
       " 11: 'odd',\n",
       " 12: 'even',\n",
       " 13: 'odd',\n",
       " 14: 'even',\n",
       " 15: 'odd',\n",
       " 16: 'even',\n",
       " 17: 'odd',\n",
       " 18: 'even',\n",
       " 19: 'odd',\n",
       " 20: 'even',\n",
       " 21: 'odd',\n",
       " 22: 'even',\n",
       " 23: 'odd',\n",
       " 24: 'even',\n",
       " 25: 'odd',\n",
       " 26: 'even',\n",
       " 27: 'odd',\n",
       " 28: 'even',\n",
       " 29: 'odd',\n",
       " 30: 'even',\n",
       " 31: 'odd',\n",
       " 32: 'even',\n",
       " 33: 'odd',\n",
       " 34: 'even',\n",
       " 35: 'odd',\n",
       " 36: 'even',\n",
       " 37: 'odd',\n",
       " 38: 'even',\n",
       " 39: 'odd',\n",
       " 40: 'even',\n",
       " 41: 'odd',\n",
       " 42: 'even',\n",
       " 43: 'odd',\n",
       " 44: 'even',\n",
       " 45: 'odd',\n",
       " 46: 'even',\n",
       " 47: 'odd',\n",
       " 48: 'even',\n",
       " 49: 'odd',\n",
       " 50: 'even',\n",
       " 51: 'odd',\n",
       " 52: 'even',\n",
       " 53: 'odd',\n",
       " 54: 'even',\n",
       " 55: 'odd',\n",
       " 56: 'even',\n",
       " 57: 'odd',\n",
       " 58: 'even',\n",
       " 59: 'odd',\n",
       " 60: 'even',\n",
       " 61: 'odd',\n",
       " 62: 'even',\n",
       " 63: 'odd',\n",
       " 64: 'even',\n",
       " 65: 'odd',\n",
       " 66: 'even',\n",
       " 67: 'odd',\n",
       " 68: 'even',\n",
       " 69: 'odd',\n",
       " 70: 'even',\n",
       " 71: 'odd',\n",
       " 72: 'even',\n",
       " 73: 'odd',\n",
       " 74: 'even',\n",
       " 75: 'odd',\n",
       " 76: 'even',\n",
       " 77: 'odd',\n",
       " 78: 'even',\n",
       " 79: 'odd',\n",
       " 80: 'even',\n",
       " 81: 'odd',\n",
       " 82: 'even',\n",
       " 83: 'odd',\n",
       " 84: 'even',\n",
       " 85: 'odd',\n",
       " 86: 'even',\n",
       " 87: 'odd',\n",
       " 88: 'even',\n",
       " 89: 'odd',\n",
       " 90: 'even',\n",
       " 91: 'odd',\n",
       " 92: 'even',\n",
       " 93: 'odd',\n",
       " 94: 'even',\n",
       " 95: 'odd',\n",
       " 96: 'even',\n",
       " 97: 'odd',\n",
       " 98: 'even',\n",
       " 99: 'odd'}"
      ]
     },
     "execution_count": 19,
     "metadata": {},
     "output_type": "execute_result"
    }
   ],
   "source": [
    "nums = list(range(1,100))\n",
    "\n",
    "{i:\"even\" if i%2 == 0 else \"odd\" for i in nums}"
   ]
  },
  {
   "cell_type": "code",
   "execution_count": null,
   "metadata": {},
   "outputs": [],
   "source": []
  },
  {
   "cell_type": "code",
   "execution_count": null,
   "metadata": {},
   "outputs": [],
   "source": []
  },
  {
   "cell_type": "markdown",
   "metadata": {},
   "source": [
    "# 9. String Operations"
   ]
  },
  {
   "cell_type": "markdown",
   "metadata": {},
   "source": [
    "### Strings can be created using single quotes, double quotes and triple quotes.\n",
    "### Using triple quotes one can create strings with multiple lines."
   ]
  },
  {
   "cell_type": "code",
   "execution_count": 24,
   "metadata": {},
   "outputs": [
    {
     "name": "stdout",
     "output_type": "stream",
     "text": [
      "Welcome to Insofe\n",
      "I'm a Geek\n",
      "I'm a Geek\n",
      "Welcome to \"Insofe\"\n",
      "Welcome to \"Insofe\"\n"
     ]
    }
   ],
   "source": [
    "String1 = 'Welcome to Insofe'\n",
    "String2 = 'I\\'m a Geek'\n",
    "String3 = \"I'm a Geek\"\n",
    "String4 = \"Welcome to \\\"Insofe\\\"\"\n",
    "String5 = '''Welcome to \"Insofe\"'''\n",
    "print(String1)\n",
    "print(String2)\n",
    "print(String3)\n",
    "print(String4)\n",
    "print(String5)\n",
    "\n",
    "##print(\"\\nString with the use of Double Quotes: \") \n",
    "#print(String1)\n",
    "#print(\"\\nstring with single quotes with single quotes in it\")\n",
    "#print(String2)"
   ]
  },
  {
   "cell_type": "code",
   "execution_count": 25,
   "metadata": {},
   "outputs": [
    {
     "name": "stdout",
     "output_type": "stream",
     "text": [
      "Original string => India is my country...\n",
      "\n",
      "len() => 22\n",
      "\n",
      "upper() => INDIA IS MY COUNTRY...\n",
      "\n",
      "lower() => india is my country...\n",
      "\n",
      "replace() => India is our country...\n",
      "\n",
      "pledge.strip(\".\") => India is my country\n",
      "\n",
      "pledge + aux => India is my country...I love my country\n",
      "\n",
      "pledge.split() => ['India', 'is', 'my', 'country...']\n",
      "\n",
      "\" \".join(pledge_list) => India is my country...\n"
     ]
    }
   ],
   "source": [
    "pledge = \"India is my country...\"\n",
    "aux = \"I love my country\"\n",
    "\n",
    "print(\"Original string =>\", pledge)\n",
    "print(\"\\nlen() =>\", len(pledge))        # len()   -> length of the string\n",
    "print(\"\\nupper() =>\", pledge.upper())   # upper() -> convert string to upper case\n",
    "print(\"\\nlower() =>\", pledge.lower())   # lower() -> convert string to lower case\n",
    "print(\"\\nreplace() =>\", pledge.replace(\"my\",\"our\")) # replace(A,B) -> replace all occurences of A with B\n",
    "\n",
    "print('\\npledge.strip(\".\") =>', pledge.strip(\".\"))  # strip() -> remove leading or trailing occurences\n",
    "print(\"\\npledge + aux =>\",pledge + aux)             # str1 + str2 -> concatenate two string into one\n",
    "\n",
    "pledge_list = pledge.split()            # Split string into list of words\n",
    "print(\"\\npledge.split() =>\", pledge_list)        \n",
    "print('\\n\" \".join(pledge_list) =>',\" \".join(pledge_list))"
   ]
  },
  {
   "cell_type": "code",
   "execution_count": 26,
   "metadata": {},
   "outputs": [
    {
     "data": {
      "text/plain": [
       "['India', 'is', 'my', 'country...']"
      ]
     },
     "execution_count": 26,
     "metadata": {},
     "output_type": "execute_result"
    }
   ],
   "source": [
    "pledge_list"
   ]
  },
  {
   "cell_type": "code",
   "execution_count": 5,
   "metadata": {},
   "outputs": [
    {
     "name": "stdout",
     "output_type": "stream",
     "text": [
      "<class 'tuple'>\n",
      "(1, 2.6, 'str', False)\n",
      "1\n",
      "1\n",
      "([1, 3.4], 'str', True)\n"
     ]
    }
   ],
   "source": [
    "tup = 1,2.6,\"str\",False\n",
    "print(type(tup))\n",
    "print(tup)\n",
    "print(tup[0])\n",
    "#tup[0] = \"zero\" #immutable\n",
    "print(tup[0])\n",
    "\n",
    "tup1 = [1,2.4],\"str\",True\n",
    "tup1[0][1] = 3.4 #Lists, as ever, in a tuple are also mutable.\n",
    "print(tup1)"
   ]
  },
  {
   "cell_type": "code",
   "execution_count": null,
   "metadata": {},
   "outputs": [],
   "source": []
  }
 ],
 "metadata": {
  "kernelspec": {
   "display_name": "Python 3",
   "language": "python",
   "name": "python3"
  },
  "language_info": {
   "codemirror_mode": {
    "name": "ipython",
    "version": 3
   },
   "file_extension": ".py",
   "mimetype": "text/x-python",
   "name": "python",
   "nbconvert_exporter": "python",
   "pygments_lexer": "ipython3",
   "version": "3.5.6"
  }
 },
 "nbformat": 4,
 "nbformat_minor": 1
}
