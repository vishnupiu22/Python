{
  "nbformat": 4,
  "nbformat_minor": 0,
  "metadata": {
    "colab": {
      "name": "regex",
      "provenance": [],
      "collapsed_sections": []
    },
    "kernelspec": {
      "name": "python3",
      "display_name": "Python 3"
    }
  },
  "cells": [
    {
      "cell_type": "markdown",
      "metadata": {
        "id": "elWiL0ok9NUW",
        "colab_type": "text"
      },
      "source": [
        "RegEx in **Python** "
      ]
    },
    {
      "cell_type": "markdown",
      "metadata": {
        "id": "JPe-UaWD9Ta5",
        "colab_type": "text"
      },
      "source": [
        "A RegEx, or Regular Expression, is a sequence of characters that forms a search pattern.\n",
        "\n",
        "RegEx can be used to check if a string contains the specified search pattern.\n",
        "\n",
        "RegEx Module\n",
        "Python has a built-in package called re, which can be used to work with Regular Expressions.\n",
        "\n",
        "Import the re module: "
      ]
    },
    {
      "cell_type": "code",
      "metadata": {
        "id": "UWMYq8O79xFY",
        "colab_type": "code",
        "outputId": "08dafc6e-4936-4bcc-d161-5c50aa6914ef",
        "colab": {
          "base_uri": "https://localhost:8080/",
          "height": 34
        }
      },
      "source": [
        "import re\n",
        "txt = \"The rain in Spain\"\n",
        "x = re.search(\"^The.*Spain$\", txt)\n",
        "x"
      ],
      "execution_count": 0,
      "outputs": [
        {
          "output_type": "execute_result",
          "data": {
            "text/plain": [
              "<_sre.SRE_Match object; span=(0, 17), match='The rain in Spain'>"
            ]
          },
          "metadata": {
            "tags": []
          },
          "execution_count": 12
        }
      ]
    },
    {
      "cell_type": "code",
      "metadata": {
        "id": "UIiuy8yd-YLH",
        "colab_type": "code",
        "outputId": "c0805987-1b9f-4e11-e6ca-eb950f37a269",
        "colab": {
          "base_uri": "https://localhost:8080/",
          "height": 34
        }
      },
      "source": [
        "import re\n",
        "\n",
        "txt = \"The rain in Spain\"\n",
        "x = re.findall(\"ai\", txt)\n",
        "print(x)"
      ],
      "execution_count": 0,
      "outputs": [
        {
          "output_type": "stream",
          "text": [
            "['ai', 'ai']\n"
          ],
          "name": "stdout"
        }
      ]
    },
    {
      "cell_type": "code",
      "metadata": {
        "id": "PJoJpiJr-l1o",
        "colab_type": "code",
        "outputId": "e27778c6-2d2c-4858-980e-0f3794c44fc9",
        "colab": {
          "base_uri": "https://localhost:8080/",
          "height": 34
        }
      },
      "source": [
        "import re\n",
        "\n",
        "txt = \"The rain in Spain\"\n",
        "x = re.search(\"Portugal\", txt)\n",
        "print(x)"
      ],
      "execution_count": 0,
      "outputs": [
        {
          "output_type": "stream",
          "text": [
            "None\n"
          ],
          "name": "stdout"
        }
      ]
    },
    {
      "cell_type": "markdown",
      "metadata": {
        "id": "vCbcFlhl_jWI",
        "colab_type": "text"
      },
      "source": [
        "**Python String Formatting**"
      ]
    },
    {
      "cell_type": "code",
      "metadata": {
        "id": "IAsvbyXO_ojX",
        "colab_type": "code",
        "outputId": "dbc1b844-6554-4f24-9999-ad96cbc4f5a8",
        "colab": {
          "base_uri": "https://localhost:8080/",
          "height": 34
        }
      },
      "source": [
        "price = 49\n",
        "txt = \"The price is {} dollars\"\n",
        "print(txt.format(price))"
      ],
      "execution_count": 0,
      "outputs": [
        {
          "output_type": "stream",
          "text": [
            "The price is 49 dollars\n"
          ],
          "name": "stdout"
        }
      ]
    },
    {
      "cell_type": "code",
      "metadata": {
        "id": "UTJGWTGA_70J",
        "colab_type": "code",
        "outputId": "b0c03136-5123-48ff-af06-2fda708eb2b9",
        "colab": {
          "base_uri": "https://localhost:8080/",
          "height": 34
        }
      },
      "source": [
        "quantity = 3\n",
        "itemno = 567\n",
        "\n",
        "myorder = \"I want {} pieces of item number {} .\"\n",
        "print(myorder.format(quantity, itemno))"
      ],
      "execution_count": 0,
      "outputs": [
        {
          "output_type": "stream",
          "text": [
            "I want 3 pieces of item number 567 .\n"
          ],
          "name": "stdout"
        }
      ]
    },
    {
      "cell_type": "markdown",
      "metadata": {
        "id": "d-l1SRXuFQ7b",
        "colab_type": "text"
      },
      "source": [
        "**Classes in Python:**Class contains data members and member functions with the help of constructor we can create an instance{Object is an instance of class}"
      ]
    },
    {
      "cell_type": "code",
      "metadata": {
        "id": "uoWu2lP9Asq0",
        "colab_type": "code",
        "outputId": "f5f52696-c013-4053-ed80-94e12bbecb13",
        "colab": {
          "base_uri": "https://localhost:8080/",
          "height": 34
        }
      },
      "source": [
        "class MyClass:\n",
        "  x = 5\n",
        "\n",
        "p1 = MyClass()\n",
        "print(p1.x)"
      ],
      "execution_count": 0,
      "outputs": [
        {
          "output_type": "stream",
          "text": [
            "5\n"
          ],
          "name": "stdout"
        }
      ]
    },
    {
      "cell_type": "markdown",
      "metadata": {
        "id": "__vAM5f6B5Ye",
        "colab_type": "text"
      },
      "source": [
        "The __init__() Function\n",
        "The examples above are classes and objects in their simplest form, and are not really useful in real life applications.\n",
        "\n",
        "To understand the meaning of classes we have to understand the built-in __init__() function.\n",
        "\n",
        "All classes have a function called __init__(), which is always executed when the class is being initiated.\n",
        "\n",
        "Use the __init__() function to assign values to object properties, or other operations that are necessary to do when the object is being created:\n"
      ]
    },
    {
      "cell_type": "code",
      "metadata": {
        "id": "CPxqiHwnCCvE",
        "colab_type": "code",
        "outputId": "a9e31e2f-f413-4e01-9abc-5f59f139e690",
        "colab": {
          "base_uri": "https://localhost:8080/",
          "height": 51
        }
      },
      "source": [
        "class Person:\n",
        "  def __init__(self, name, age):\n",
        "    self.name = name\n",
        "    self.age = age\n",
        "\n",
        "p1 = Person(\"John\", 36)\n",
        "\n",
        "print(p1.name)\n",
        "print(p1.age)"
      ],
      "execution_count": 0,
      "outputs": [
        {
          "output_type": "stream",
          "text": [
            "John\n",
            "36\n"
          ],
          "name": "stdout"
        }
      ]
    }
  ]
}